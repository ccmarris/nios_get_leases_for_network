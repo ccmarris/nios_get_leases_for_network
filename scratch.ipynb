{
 "cells": [
  {
   "cell_type": "code",
   "execution_count": 8,
   "id": "institutional-utilization",
   "metadata": {},
   "outputs": [
    {
     "name": "stdout",
     "output_type": "stream",
     "text": [
      "  allow_gss_tsig_zone_updates dns_health_check_enabled enable_dns64  \\\n",
      "0                       false                    false        false   \n",
      "1                       false                    false        false   \n",
      "\n",
      "  enable_gss_tsig log_queries virtual_node  \n",
      "0           false       false            2  \n",
      "1           false       false            3  \n",
      "  allow_gss_tsig_zone_updates blacklist_enabled dns_health_check_enabled  \\\n",
      "0                       false             false                    false   \n",
      "\n",
      "  enable_dns64 enable_gss_tsig  \n",
      "0        false           false  \n"
     ]
    }
   ],
   "source": [
    "import pandas as pd\n",
    "import collections\n",
    "\n",
    "\n",
    "report = {'report':{'.com.infoblox.dns.zone': [['_default',\n",
    "                                                       'View',\n",
    "                                                       72473],\n",
    "                                                      ['srg_root',\n",
    "                                                       'SharedRecordGroup',\n",
    "                                                       72474],\n",
    "                                                      ['rpz_root',\n",
    "                                                       'ResponsePolicy',\n",
    "                                                       72475]]}}\n",
    "\n",
    "report['report'] = collections.defaultdict()\n",
    "report['report']['.com.infoblox.dns.member_dns_properties'] = collections.defaultdict()\n",
    "report['report']['.com.infoblox.dns.cluster_dns_properties'] = collections.defaultdict()\n",
    "report['report']['.com.infoblox.dns.cluster_dns_properties'] =  [{'allow_gss_tsig_zone_updates': 'false',\n",
    "                                                                                   'blacklist_enabled': 'false',\n",
    "                                                                                   'dns_health_check_enabled': 'false',\n",
    "                                                                                   'enable_dns64': 'false',\n",
    "                                                                                   'enable_gss_tsig': 'false'}]\n",
    "report['report']['.com.infoblox.dns.member_dns_properties'] =  [{'allow_gss_tsig_zone_updates': 'false',\n",
    "                                                                                  'dns_health_check_enabled': 'false',\n",
    "                                                                                  'enable_dns64': 'false',\n",
    "                                                                                  'enable_gss_tsig': 'false',\n",
    "                                                                                  'log_queries': 'false',\n",
    "                                                                                  'virtual_node': '2'},\n",
    "                                                                                 {'allow_gss_tsig_zone_updates': 'false',\n",
    "                                                                                  'dns_health_check_enabled': 'false',\n",
    "                                                                                  'enable_dns64': 'false',\n",
    "                                                                                  'enable_gss_tsig': 'false',\n",
    "                                                                                  'log_queries': 'false',\n",
    "                                                                                  'virtual_node': '3'}]\n",
    "\n",
    "for k in report['report'].keys():\n",
    "    df = pd.DataFrame(report['report'][k])\n",
    "    print(df)\n",
    "    "
   ]
  },
  {
   "cell_type": "code",
   "execution_count": 16,
   "id": "emerging-possibility",
   "metadata": {},
   "outputs": [
    {
     "name": "stdout",
     "output_type": "stream",
     "text": [
      "      state  options net\n",
      "0   invalid       43   A\n",
      "1   invalid       43   B\n",
      "2  validate       43   C\n",
      "3   invalid      121   D\n"
     ]
    },
    {
     "data": {
      "text/plain": [
       "state     options\n",
       "invalid   43         2\n",
       "          121        1\n",
       "validate  43         1\n",
       "dtype: int64"
      ]
     },
     "execution_count": 16,
     "metadata": {},
     "output_type": "execute_result"
    }
   ],
   "source": [
    "r = [['invalid',43, 'A'], ['invalid', 43, 'B'],['validate',43,'C'],['invalid',121,'D']]\n",
    "df = pd.DataFrame(r, columns=['state', 'options', 'net'])\n",
    "print(df)\n",
    "\n",
    "df.value_counts(['state','options'])"
   ]
  },
  {
   "cell_type": "code",
   "execution_count": null,
   "id": "vital-picnic",
   "metadata": {},
   "outputs": [],
   "source": []
  }
 ],
 "metadata": {
  "kernelspec": {
   "display_name": "Python 3",
   "language": "python",
   "name": "python3"
  },
  "language_info": {
   "codemirror_mode": {
    "name": "ipython",
    "version": 3
   },
   "file_extension": ".py",
   "mimetype": "text/x-python",
   "name": "python",
   "nbconvert_exporter": "python",
   "pygments_lexer": "ipython3",
   "version": "3.9.2+"
  }
 },
 "nbformat": 4,
 "nbformat_minor": 5
}
