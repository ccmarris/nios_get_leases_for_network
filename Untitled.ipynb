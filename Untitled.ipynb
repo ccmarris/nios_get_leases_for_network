{
 "cells": [
  {
   "cell_type": "code",
   "execution_count": 15,
   "id": "87b38c91",
   "metadata": {},
   "outputs": [],
   "source": [
    "import pandas as pd\n",
    "import collections\n",
    "\n",
    "\n",
    "report = {'report':{'.com.infoblox.dns.zone': [['_default',\n",
    "                                                       'View',\n",
    "                                                       72473],\n",
    "                                                      ['srg_root',\n",
    "                                                       'SharedRecordGroup',\n",
    "                                                       72474],\n",
    "                                                      ['rpz_root',\n",
    "                                                       'ResponsePolicy',\n",
    "                                                       72475]]}}\n",
    "\n",
    "report['report'] = collections.defaultdict()\n",
    "report['report']['.com.infoblox.dns.member_dns_properties'] = collections.defaultdict()\n",
    "report['report']['.com.infoblox.dns.cluster_dns_properties'] = collections.defaultdict()\n",
    "report['report']['.com.infoblox.dns.cluster_dns_properties'] =  [{'allow_gss_tsig_zone_updates': 'false',\n",
    "                                                                                   'blacklist_enabled': 'false',\n",
    "                                                                                   'dns_health_check_enabled': 'false',\n",
    "                                                                                   'enable_dns64': 'false',\n",
    "                                                                                   'enable_gss_tsig': 'false'}]\n",
    "report['report']['.com.infoblox.dns.member_dns_properties'] =  [{'allow_gss_tsig_zone_updates': 'false',\n",
    "                                                                                  'dns_health_check_enabled': 'false',\n",
    "                                                                                  'enable_dns64': 'false',\n",
    "                                                                                  'enable_gss_tsig': 'false',\n",
    "                                                                                  'log_queries': 'false',\n",
    "                                                                                  'virtual_node': '2'},\n",
    "                                                                                 {'allow_gss_tsig_zone_updates': 'false',\n",
    "                                                                                  'dns_health_check_enabled': 'false',\n",
    "                                                                                  'enable_dns64': 'false',\n",
    "                                                                                  'enable_gss_tsig': 'false',\n",
    "                                                                                  'log_queries': 'false',\n",
    "                                                                                  'virtual_node': '3'}]\n",
    "\n",
    "for k in report['report'].keys():\n",
    "    df = pd.DataFrame(report['report'][k])\n",
    "    df.\n",
    "    "
   ]
  },
  {
   "cell_type": "code",
   "execution_count": null,
   "id": "102fdaa4",
   "metadata": {},
   "outputs": [],
   "source": []
  },
  {
   "cell_type": "code",
   "execution_count": null,
   "id": "5276e1f2",
   "metadata": {},
   "outputs": [],
   "source": []
  }
 ],
 "metadata": {
  "kernelspec": {
   "display_name": "Python 3",
   "language": "python",
   "name": "python3"
  },
  "language_info": {
   "codemirror_mode": {
    "name": "ipython",
    "version": 3
   },
   "file_extension": ".py",
   "mimetype": "text/x-python",
   "name": "python",
   "nbconvert_exporter": "python",
   "pygments_lexer": "ipython3",
   "version": "3.9.2"
  }
 },
 "nbformat": 4,
 "nbformat_minor": 5
}
